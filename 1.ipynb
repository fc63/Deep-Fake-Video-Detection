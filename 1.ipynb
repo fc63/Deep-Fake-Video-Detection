{
  "nbformat": 4,
  "nbformat_minor": 0,
  "metadata": {
    "colab": {
      "provenance": [],
      "machine_shape": "hm",
      "gpuType": "A100",
      "authorship_tag": "ABX9TyNLlYLfU4JZJk8vT6eM0KmB"
    },
    "kernelspec": {
      "name": "python3",
      "display_name": "Python 3"
    },
    "language_info": {
      "name": "python"
    },
    "accelerator": "GPU"
  },
  "cells": [
    {
      "cell_type": "code",
      "execution_count": 1,
      "metadata": {
        "id": "rmTCkezb5Sb_"
      },
      "outputs": [],
      "source": [
        "!pip install -q kagglehub scikit-learn pandas matplotlib"
      ]
    },
    {
      "cell_type": "code",
      "source": [
        "import kagglehub\n",
        "\n",
        "# Download\n",
        "path = kagglehub.dataset_download(\"greatgamedota/dfdc-part-34\")\n",
        "\n",
        "print(\"Path to dataset files:\", path)"
      ],
      "metadata": {
        "colab": {
          "base_uri": "https://localhost:8080/"
        },
        "id": "0xoMKT885iut",
        "outputId": "939864bb-209d-4688-882a-cb2a7c834e3c"
      },
      "execution_count": 2,
      "outputs": [
        {
          "output_type": "stream",
          "name": "stdout",
          "text": [
            "Path to dataset files: /kaggle/input/dfdc-part-34\n"
          ]
        }
      ]
    },
    {
      "cell_type": "code",
      "source": [
        "import pandas as pd\n",
        "import os\n",
        "\n",
        "metadata = pd.read_csv(f\"{path}/images/metadata34.csv\")\n",
        "\n",
        "# .mp4 uzantısını kaldır\n",
        "metadata[\"filename\"] = metadata[\"filename\"].str.replace(\".mp4\", \"\", regex=False)\n",
        "metadata[\"original\"] = metadata[\"original\"].str.replace(\".mp4\", \"\", regex=False)\n",
        "\n",
        "print(metadata.head())"
      ],
      "metadata": {
        "colab": {
          "base_uri": "https://localhost:8080/"
        },
        "id": "DvTJQczH5mG3",
        "outputId": "8594987b-4547-4c7a-8102-d35f247e50c7"
      },
      "execution_count": 3,
      "outputs": [
        {
          "output_type": "stream",
          "name": "stdout",
          "text": [
            "     filename label  split    original\n",
            "0  zhmjtavtpn  FAKE  train  ejnrxekehh\n",
            "1  dazellwbsl  FAKE  train  xuxkfhqjiu\n",
            "2  elwdztqnot  FAKE  train  xlyxbyhjsq\n",
            "3  fiedwlcwyn  FAKE  train  skhnvzyukn\n",
            "4  svbcewtjvh  FAKE  train  arrpqqfiah\n"
          ]
        }
      ]
    },
    {
      "cell_type": "code",
      "source": [
        "from glob import glob\n",
        "\n",
        "def get_image_paths(base_path, filename):\n",
        "    folder = os.path.join(base_path, \"images\", filename)\n",
        "    image_paths = sorted(glob(f\"{folder}/*.jpg\"), key=lambda x: int(os.path.basename(x).split(\".\")[0]))\n",
        "    return image_paths\n",
        "\n",
        "# Örnek olarak: bir klasördeki tüm frame'ler:\n",
        "sample_images = get_image_paths(path, metadata[\"filename\"].iloc[0])\n",
        "print(sample_images)"
      ],
      "metadata": {
        "colab": {
          "base_uri": "https://localhost:8080/"
        },
        "id": "KqxZ0u7c5pZz",
        "outputId": "dd4037cc-9726-496e-ece9-c530e9ad02fe"
      },
      "execution_count": 4,
      "outputs": [
        {
          "output_type": "stream",
          "name": "stdout",
          "text": [
            "['/kaggle/input/dfdc-part-34/images/zhmjtavtpn/0.jpg', '/kaggle/input/dfdc-part-34/images/zhmjtavtpn/30.jpg', '/kaggle/input/dfdc-part-34/images/zhmjtavtpn/60.jpg', '/kaggle/input/dfdc-part-34/images/zhmjtavtpn/90.jpg', '/kaggle/input/dfdc-part-34/images/zhmjtavtpn/120.jpg', '/kaggle/input/dfdc-part-34/images/zhmjtavtpn/150.jpg', '/kaggle/input/dfdc-part-34/images/zhmjtavtpn/180.jpg', '/kaggle/input/dfdc-part-34/images/zhmjtavtpn/210.jpg', '/kaggle/input/dfdc-part-34/images/zhmjtavtpn/240.jpg', '/kaggle/input/dfdc-part-34/images/zhmjtavtpn/270.jpg']\n"
          ]
        }
      ]
    },
    {
      "cell_type": "code",
      "source": [
        "# imageler üzerinde preprocessing işlemi yapıyoruz (Rescale + Normalize)\n",
        "import cv2\n",
        "import numpy as np\n",
        "\n",
        "def preprocess_image(image_path):\n",
        "    img = cv2.imread(image_path)\n",
        "    img = cv2.resize(img, (224, 224))\n",
        "    img = img / 255.0  # Normalize\n",
        "    return img.astype(np.float32)\n",
        "\n",
        "# Tüm frame'leri al ve stack'le (örneğin 10 frame)\n",
        "def load_frames(frame_paths, max_frames=10):\n",
        "    frames = [preprocess_image(p) for p in frame_paths[:max_frames]]\n",
        "    return np.stack(frames)\n",
        "\n",
        "# x frameler, y ise label\n",
        "X = []\n",
        "y = []\n",
        "\n",
        "for idx, row in metadata.iterrows():\n",
        "    images = get_image_paths(path, row['filename'])\n",
        "    if not images:\n",
        "        continue\n",
        "    frames = load_frames(images, max_frames=10)\n",
        "    X.append(frames)\n",
        "    y.append(1 if row['label'] == \"FAKE\" else 0)\n",
        "\n",
        "X = np.array(X)\n",
        "y = np.array(y)\n",
        "\n",
        "print(X.shape, y.shape)  # (num_samples, num_frames, 224, 224, 3)"
      ],
      "metadata": {
        "colab": {
          "base_uri": "https://localhost:8080/"
        },
        "id": "Aye36IL65zIe",
        "outputId": "cf0d8df5-2600-4d19-dd9a-fdc8937f521b"
      },
      "execution_count": 6,
      "outputs": [
        {
          "output_type": "stream",
          "name": "stdout",
          "text": [
            "(2658, 10, 224, 224, 3) (2658,)\n"
          ]
        }
      ]
    },
    {
      "cell_type": "code",
      "source": [
        "# transferlearning  aşaması (EfficientNetB0 + TimeDistributed + LSTM)\n",
        "import tensorflow as tf\n",
        "from tensorflow.keras.applications import EfficientNetB0\n",
        "from tensorflow.keras.models import Sequential\n",
        "from tensorflow.keras.layers import TimeDistributed, LSTM, Dense, GlobalAveragePooling2D, Dropout\n",
        "\n",
        "base_model = EfficientNetB0(include_top=False, weights='imagenet', input_shape=(224, 224, 3))\n",
        "\n",
        "model = Sequential([\n",
        "    TimeDistributed(base_model, input_shape=(10, 224, 224, 3)),\n",
        "    TimeDistributed(GlobalAveragePooling2D()),\n",
        "    LSTM(64, return_sequences=False),\n",
        "    Dropout(0.5),\n",
        "    Dense(1, activation='sigmoid')\n",
        "])\n",
        "\n",
        "model.compile(optimizer='adam', loss='binary_crossentropy', metrics=['accuracy'])"
      ],
      "metadata": {
        "colab": {
          "base_uri": "https://localhost:8080/"
        },
        "id": "dRB5KYp06b6b",
        "outputId": "19ec35ba-34cd-4b8d-9291-3736d1102cfa"
      },
      "execution_count": 7,
      "outputs": [
        {
          "output_type": "stream",
          "name": "stdout",
          "text": [
            "Downloading data from https://storage.googleapis.com/keras-applications/efficientnetb0_notop.h5\n",
            "\u001b[1m16705208/16705208\u001b[0m \u001b[32m━━━━━━━━━━━━━━━━━━━━\u001b[0m\u001b[37m\u001b[0m \u001b[1m0s\u001b[0m 0us/step\n"
          ]
        },
        {
          "output_type": "stream",
          "name": "stderr",
          "text": [
            "/usr/local/lib/python3.11/dist-packages/keras/src/layers/core/wrapper.py:27: UserWarning: Do not pass an `input_shape`/`input_dim` argument to a layer. When using Sequential models, prefer using an `Input(shape)` object as the first layer in the model instead.\n",
            "  super().__init__(**kwargs)\n"
          ]
        }
      ]
    },
    {
      "cell_type": "code",
      "source": [
        "# train validation\n",
        "\n",
        "from sklearn.model_selection import train_test_split\n",
        "\n",
        "X_train, X_test, y_train, y_test = train_test_split(X, y, test_size=0.2, stratify=y)\n",
        "\n",
        "history = model.fit(X_train, y_train, epochs=5, batch_size=8, validation_data=(X_test, y_test))"
      ],
      "metadata": {
        "colab": {
          "base_uri": "https://localhost:8080/"
        },
        "id": "9gz7HhMn63rz",
        "outputId": "12037cee-9bc2-4e69-c514-a24e3d6a16b3"
      },
      "execution_count": 8,
      "outputs": [
        {
          "output_type": "stream",
          "name": "stdout",
          "text": [
            "Epoch 1/5\n",
            "\u001b[1m266/266\u001b[0m \u001b[32m━━━━━━━━━━━━━━━━━━━━\u001b[0m\u001b[37m\u001b[0m \u001b[1m341s\u001b[0m 541ms/step - accuracy: 0.8190 - loss: 0.4941 - val_accuracy: 0.8440 - val_loss: 0.4400\n",
            "Epoch 2/5\n",
            "\u001b[1m266/266\u001b[0m \u001b[32m━━━━━━━━━━━━━━━━━━━━\u001b[0m\u001b[37m\u001b[0m \u001b[1m113s\u001b[0m 426ms/step - accuracy: 0.8430 - loss: 0.4386 - val_accuracy: 0.8440 - val_loss: 0.4614\n",
            "Epoch 3/5\n",
            "\u001b[1m266/266\u001b[0m \u001b[32m━━━━━━━━━━━━━━━━━━━━\u001b[0m\u001b[37m\u001b[0m \u001b[1m113s\u001b[0m 426ms/step - accuracy: 0.8344 - loss: 0.4257 - val_accuracy: 0.8440 - val_loss: 0.4364\n",
            "Epoch 4/5\n",
            "\u001b[1m266/266\u001b[0m \u001b[32m━━━━━━━━━━━━━━━━━━━━\u001b[0m\u001b[37m\u001b[0m \u001b[1m113s\u001b[0m 426ms/step - accuracy: 0.8492 - loss: 0.3967 - val_accuracy: 0.6034 - val_loss: 0.6925\n",
            "Epoch 5/5\n",
            "\u001b[1m266/266\u001b[0m \u001b[32m━━━━━━━━━━━━━━━━━━━━\u001b[0m\u001b[37m\u001b[0m \u001b[1m113s\u001b[0m 426ms/step - accuracy: 0.8467 - loss: 0.3664 - val_accuracy: 0.8421 - val_loss: 0.4725\n"
          ]
        }
      ]
    },
    {
      "cell_type": "code",
      "source": [
        "from sklearn.metrics import roc_auc_score, confusion_matrix\n",
        "import matplotlib.pyplot as plt\n",
        "\n",
        "# AUC\n",
        "y_pred = model.predict(X_test)\n",
        "print(\"AUC:\", roc_auc_score(y_test, y_pred))\n",
        "\n",
        "# Confusion matrix\n",
        "cm = confusion_matrix(y_test, y_pred.round())\n",
        "print(\"Confusion matrix:\\n\", cm)"
      ],
      "metadata": {
        "colab": {
          "base_uri": "https://localhost:8080/"
        },
        "id": "8KAwqokC-K98",
        "outputId": "118123e3-4cdf-4935-97ed-ce8ea5d4289f"
      },
      "execution_count": 9,
      "outputs": [
        {
          "output_type": "stream",
          "name": "stdout",
          "text": [
            "\u001b[1m17/17\u001b[0m \u001b[32m━━━━━━━━━━━━━━━━━━━━\u001b[0m\u001b[37m\u001b[0m \u001b[1m47s\u001b[0m 2s/step\n",
            "AUC: 0.5983577964418922\n",
            "Confusion matrix:\n",
            " [[  1  82]\n",
            " [  1 448]]\n"
          ]
        }
      ]
    },
    {
      "cell_type": "code",
      "source": [
        "import seaborn as sns\n",
        "import matplotlib.pyplot as plt\n",
        "\n",
        "sns.countplot(x=y)\n",
        "plt.title(\"Label Distribution (0=REAL, 1=FAKE)\")\n"
      ],
      "metadata": {
        "colab": {
          "base_uri": "https://localhost:8080/",
          "height": 470
        },
        "id": "FNcR0aP6_HLJ",
        "outputId": "472813a0-2ebb-4af8-98ab-c497a1688e64"
      },
      "execution_count": 10,
      "outputs": [
        {
          "output_type": "execute_result",
          "data": {
            "text/plain": [
              "Text(0.5, 1.0, 'Label Distribution (0=REAL, 1=FAKE)')"
            ]
          },
          "metadata": {},
          "execution_count": 10
        },
        {
          "output_type": "display_data",
          "data": {
            "text/plain": [
              "<Figure size 640x480 with 1 Axes>"
            ],
            "image/png": "[encoded data removed]"
          },
          "metadata": {}
        }
      ]
    }
  ]
}